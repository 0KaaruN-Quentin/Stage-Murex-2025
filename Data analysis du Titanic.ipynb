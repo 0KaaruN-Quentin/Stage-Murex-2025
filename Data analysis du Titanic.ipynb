{
 "cells": [
  {
   "cell_type": "markdown",
   "id": "86b4d8db-d811-4d57-a88d-260872319aee",
   "metadata": {},
   "source": [
    "# Data analysis du naufrage du Titanic"
   ]
  },
  {
   "cell_type": "markdown",
   "id": "28f6738f-9af6-4d4f-be42-c6b49ef06cae",
   "metadata": {},
   "source": [
    "### Pré-processing des données"
   ]
  },
  {
   "cell_type": "code",
   "execution_count": 4,
   "id": "9051dc75-6977-442e-8fb6-f8e96a58a16b",
   "metadata": {},
   "outputs": [],
   "source": [
    "import numpy as np\n",
    "import matplotlib as plt\n",
    "import pandas as pd\n",
    "import seaborn as sbs"
   ]
  },
  {
   "cell_type": "code",
   "execution_count": 31,
   "id": "639ccb59-a4b3-43aa-adb2-f126dedcb85c",
   "metadata": {},
   "outputs": [],
   "source": [
    "data = pd.read_excel('titanic3.xls')\n",
    "# On charge nos données dans une variable data"
   ]
  },
  {
   "cell_type": "code",
   "execution_count": 32,
   "id": "69baea82-42ec-42a5-a945-02f9a496df78",
   "metadata": {},
   "outputs": [],
   "source": [
    "from sklearn.model_selection import train_test_split"
   ]
  },
  {
   "cell_type": "code",
   "execution_count": 33,
   "id": "13af2ace-494a-4f3d-af59-6210bf99bbf1",
   "metadata": {},
   "outputs": [],
   "source": [
    "trainset, testset = train_test_split(data, test_size=0.2, random_state = 0)\n",
    "# On sépare nos données en 2 sets : un pour entraîner le modèle, et un pour le tester"
   ]
  },
  {
   "cell_type": "code",
   "execution_count": 70,
   "id": "b7f7230b-aa54-47b8-8679-e49e5e429334",
   "metadata": {},
   "outputs": [],
   "source": [
    "def selection_donnees(data):\n",
    "    \n",
    "    res = data.drop(['name', 'sibsp', 'parch', 'ticket', 'fare', 'cabin', 'embarked', 'boat', 'body', 'home.dest'], axis=1)\n",
    "    # On retire toutes les données n'ayant pas d'impact réel sur notre target (la survie ou non du passager)\n",
    "    \n",
    "    res = res.dropna(axis=0)\n",
    "    # On retire tous les passagers dont on n'a pas toutes les infos pour éviter d'altérer la réalité\n",
    "\n",
    "    return res"
   ]
  },
  {
   "cell_type": "code",
   "execution_count": 71,
   "id": "3a974942-a140-422a-8ba0-229d6702289d",
   "metadata": {},
   "outputs": [],
   "source": [
    "def encodage(data): # Encoder les données permet de les adapter au modèle\n",
    "    data['sex'] = data['sex'].astype('category').cat.codes\n",
    "    return data"
   ]
  },
  {
   "cell_type": "code",
   "execution_count": 75,
   "id": "5f52f3c3-8424-4548-9df4-52812082e037",
   "metadata": {},
   "outputs": [],
   "source": [
    "def preprocessing(data):\n",
    "    \n",
    "    data = selection_donnees(data)\n",
    "    data = encodage(data)\n",
    "\n",
    "    X = data.drop('survived', axis = 1) # X contient les features\n",
    "    y = data['survived'] # y contient les target\n",
    "    \n",
    "    return X,y"
   ]
  },
  {
   "cell_type": "code",
   "execution_count": 78,
   "id": "062df8d9-2187-4b2e-a9ba-22f2e3d6f3c9",
   "metadata": {},
   "outputs": [],
   "source": [
    "X_train, y_train = preprocessing(trainset)\n",
    "X_test, y_test = preprocessing(testset)"
   ]
  },
  {
   "cell_type": "markdown",
   "id": "bab1b61e-40a7-4b2f-97b3-0df8061ec4d6",
   "metadata": {},
   "source": [
    "### Modélisation"
   ]
  },
  {
   "cell_type": "code",
   "execution_count": 79,
   "id": "8ee08efc-bc5c-409f-a4d3-d8820dcfd560",
   "metadata": {},
   "outputs": [],
   "source": [
    "from sklearn.tree import DecisionTreeClassifier"
   ]
  },
  {
   "cell_type": "code",
   "execution_count": 81,
   "id": "cfab6530-25d3-4086-8f26-8fda7e65e015",
   "metadata": {},
   "outputs": [],
   "source": [
    "model = DecisionTreeClassifier(random_state = 0) # Création de notre modèle"
   ]
  },
  {
   "cell_type": "markdown",
   "id": "25522541-9747-44f4-aaaf-6ee9de084e6d",
   "metadata": {},
   "source": [
    "### Procédure d'évaluation"
   ]
  },
  {
   "cell_type": "code",
   "execution_count": 94,
   "id": "0f123dc6-4bd6-42ea-9d10-9ee0a95c00cb",
   "metadata": {},
   "outputs": [],
   "source": [
    "import matplotlib.pyplot as plt\n",
    "\n",
    "from sklearn.metrics import f1_score, confusion_matrix, classification_report\n",
    "# f1_score : proportion d'erreurs\n",
    "# confusion_matrix : rapport entre faux-survivants et faux-naufragés\n",
    "# classification_report : bilan de l'efficacité de notre modèle (accuracy etc)\n",
    "\n",
    "from sklearn.model_selection import learning_curve\n",
    "# learning_curve : permet de savoir si notre modèle est en over/underfitting dans le but d'adapter nos données"
   ]
  },
  {
   "cell_type": "code",
   "execution_count": 97,
   "id": "7393ee7d-dd6b-4193-817c-f244efc5bd9a",
   "metadata": {},
   "outputs": [],
   "source": [
    "def evaluation(model):\n",
    "\n",
    "    # Le modèle s'entraîne sur le set train\n",
    "    model.fit(X_train, y_train)\n",
    "    \n",
    "    # il applique ce qu'il a appris lors du model.fit et prédit ainsi les résultats sur les passagers jamais vus lors de l'entraînement (X_test)\n",
    "    ypred = model.predict(X_test)\n",
    "\n",
    "    print(confusion_matrix(y_test, ypred))\n",
    "\n",
    "    # classification_report calcule la précision, le rappel, le f1-score et le support pour chaque classe, à partir de y_test et des prédictions ypred\n",
    "    print(classification_report(y_test, ypred))\n",
    "    \n",
    "\n",
    "    N, train_score, val_score = learning_curve(\n",
    "\n",
    "        #la fonction learning_curve prend en arguments le modèle, et le train set\n",
    "        model,\n",
    "        X_train,\n",
    "        y_train,\n",
    "\n",
    "        # Validation croisée à 4 plis : le train set est découpé en 4 parties. 4 validations, avec chacune un pli de validation différent.\n",
    "        cv = 4,\n",
    "\n",
    "        # On utilise le score f1 comme métrique\n",
    "        scoring = 'f1',\n",
    "\n",
    "        # 10 tailles d’échantillons équidistantes (3e arg), comprises entre 10 % (1er arg) et 100 % (2e arg) de X_train\n",
    "        train_sizes = np.linspace (0.1, 1, 10)\n",
    "    )\n",
    "\n",
    "    plt.figure(figsize = (6, 4))\n",
    "\n",
    "    # L'idée en comparant le train score et le validation score est de déterminer si le modèle est en over/underfitting\n",
    "    plt.plot(N, train_score.mean(axis=1), label = 'train score')\n",
    "    plt.plot(N, val_score.mean(axis=1), label = 'validation score')\n",
    "    \n",
    "    plt.legend()"
   ]
  },
  {
   "cell_type": "code",
   "execution_count": 98,
   "id": "80efeb08-1449-4ea4-825a-fb8d82e99acd",
   "metadata": {
    "scrolled": true
   },
   "outputs": [
    {
     "name": "stdout",
     "output_type": "stream",
     "text": [
      "[[112  13]\n",
      " [ 29  51]]\n",
      "              precision    recall  f1-score   support\n",
      "\n",
      "           0       0.79      0.90      0.84       125\n",
      "           1       0.80      0.64      0.71        80\n",
      "\n",
      "    accuracy                           0.80       205\n",
      "   macro avg       0.80      0.77      0.78       205\n",
      "weighted avg       0.80      0.80      0.79       205\n",
      "\n"
     ]
    },
    {
     "data": {
      "image/png": "[encoded data removed]",
      "text/plain": [
       "<Figure size 600x400 with 1 Axes>"
      ]
     },
     "metadata": {},
     "output_type": "display_data"
    }
   ],
   "source": [
    "evaluation(model)"
   ]
  },
  {
   "cell_type": "markdown",
   "id": "60c2f9d2-59a2-48a6-9597-af5499aab38e",
   "metadata": {},
   "source": [
    "On remarque que notre modèle est en overfitting : son train score est relativement élevé (bien qu'il baisse avec plus de données) alors que son validation score reste relativement faible et ne croît pas.\n",
    "Le modèle apprend correctement les règles spécifiques aux données d'entraînement, mais ne généralise pas. Il est donc inefficace sur des données qu'il n'a jamais vues dans le train set.\n",
    "Il va donc falloir optimiser notre modèle, pour améliorer sa capacité de généralisation."
   ]
  },
  {
   "cell_type": "markdown",
   "id": "01889aa5-3fbb-4026-b2bf-cfd01b8b5c31",
   "metadata": {},
   "source": [
    "### Optimisation"
   ]
  }
 ],
 "metadata": {
  "kernelspec": {
   "display_name": "Python 3 (ipykernel)",
   "language": "python",
   "name": "python3"
  },
  "language_info": {
   "codemirror_mode": {
    "name": "ipython",
    "version": 3
   },
   "file_extension": ".py",
   "mimetype": "text/x-python",
   "name": "python",
   "nbconvert_exporter": "python",
   "pygments_lexer": "ipython3",
   "version": "3.13.1"
  }
 },
 "nbformat": 4,
 "nbformat_minor": 5
}
